{
 "cells": [
  {
   "cell_type": "code",
   "execution_count": null,
   "metadata": {},
   "outputs": [],
   "source": [
    "# WARNING in this tutorial we are using kfp==2.0.0b13\n",
    "# you migth also have to run pip install kfp --pre"
   ]
  },
  {
   "cell_type": "code",
   "execution_count": null,
   "metadata": {},
   "outputs": [],
   "source": [
    "import os\n",
    "from kfp.registry import RegistryClient\n",
    "from dotenv import load_dotenv\n",
    "\n",
    "load_dotenv()\n",
    "bucket = os.getenv(\"bucket\")\n",
    "gcp_project = os.getenv(\"gcp_project\")\n",
    "gcp_service_account = os.getenv(\"gcp_service_account\")\n",
    "kubeflow_pipelines_artifact_registyr = os.getenv('kubeflow_pipelines_artifact_registyr')\n",
    "\n",
    "client = RegistryClient(host=f\"https://europe-west1-kfp.pkg.dev/{gcp_project}/{kubeflow_pipelines_artifact_registyr}\")"
   ]
  },
  {
   "cell_type": "code",
   "execution_count": null,
   "metadata": {},
   "outputs": [],
   "source": [
    "client.list_packages()"
   ]
  },
  {
   "attachments": {},
   "cell_type": "markdown",
   "metadata": {},
   "source": [
    "# Creating a super simple pipeline\n",
    "\n",
    "However it is a littel diffrent from the one in previous blog post on how arguments are defined and that we compile to a yaml file instead. "
   ]
  },
  {
   "cell_type": "code",
   "execution_count": null,
   "metadata": {},
   "outputs": [],
   "source": [
    "import kfp.dsl as dsl\n",
    "import os\n",
    "from dotenv import load_dotenv\n",
    "from kfp.v2.dsl import component\n",
    "from kfp.v2 import compiler\n",
    "from google.cloud import aiplatform as aip\n",
    "\n",
    "def train_model(input: float) -> float:\n",
    "    return 2.0 + input\n",
    "\n",
    "def ingetst_data(input: float=2) -> float:\n",
    "    return 2.0\n",
    "\n",
    "# Create components for the ingestion and training functions\n",
    "ingest_data_component = component(ingetst_data)\n",
    "train_component = component(train_model)\n",
    "\n",
    "\n",
    "# Define the pipeline using the Kubeflow Pipelines SDK\n",
    "@dsl.pipeline(\n",
    "    name=\"ltv-train\",\n",
    ")\n",
    "def add_pipeline():\n",
    "    # Instantiate the ingest_data_component and store its output\n",
    "    ingest_data = ingest_data_component(input=3.0)\n",
    "    \n",
    "    # Instantiate the train_component, passing the output from the ingest_data_component\n",
    "    train_model = train_component(input=ingest_data.output)\n",
    "    \n",
    "    # Disable caching for the train_model component to ensure it runs every time\n",
    "    train_model.set_caching_options(False)\n",
    "\n",
    "# Compile the pipeline to generate a JSON file for execution\n",
    "compiler.Compiler().compile(pipeline_func=add_pipeline, package_path=\"local_run.yaml\")"
   ]
  },
  {
   "cell_type": "code",
   "execution_count": null,
   "metadata": {},
   "outputs": [],
   "source": [
    "templateName, versionName = client.upload_pipeline(\n",
    "  file_name=\"local_run.yaml\",\n",
    "  tags=[\"v1\", \"latest\"],\n",
    "  extra_headers={\"description\":\"This is an example pipeline template.\"})"
   ]
  },
  {
   "cell_type": "code",
   "execution_count": null,
   "metadata": {},
   "outputs": [],
   "source": []
  }
 ],
 "metadata": {
  "kernelspec": {
   "display_name": "Python 3",
   "language": "python",
   "name": "python3"
  },
  "language_info": {
   "codemirror_mode": {
    "name": "ipython",
    "version": 3
   },
   "file_extension": ".py",
   "mimetype": "text/x-python",
   "name": "python",
   "nbconvert_exporter": "python",
   "pygments_lexer": "ipython3",
   "version": "3.10.10"
  },
  "orig_nbformat": 4
 },
 "nbformat": 4,
 "nbformat_minor": 2
}
