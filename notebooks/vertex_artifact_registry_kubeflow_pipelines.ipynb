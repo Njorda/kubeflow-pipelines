{
 "cells": [
  {
   "cell_type": "code",
   "execution_count": 1,
   "metadata": {},
   "outputs": [
    {
     "name": "stderr",
     "output_type": "stream",
     "text": [
      "/usr/local/lib/python3.10/site-packages/google/auth/_default.py:78: UserWarning: Your application has authenticated using end user credentials from Google Cloud SDK without a quota project. You might receive a \"quota exceeded\" or \"API not enabled\" error. See the following page for troubleshooting: https://cloud.google.com/docs/authentication/adc-troubleshooting/user-creds. \n",
      "  warnings.warn(_CLOUD_SDK_CREDENTIALS_WARNING)\n"
     ]
    }
   ],
   "source": [
    "# This script sets up the connection to a Kubeflow Pipelines Artifact Registry\n",
    "# using the RegistryClient from the kfp.registry module. It loads the necessary\n",
    "# environment variables and establishes a connection to the registry.\n",
    "\n",
    "import os\n",
    "from kfp.registry import RegistryClient\n",
    "from dotenv import load_dotenv\n",
    "\n",
    "# Load environment variables from the .env file\n",
    "load_dotenv()\n",
    "\n",
    "# Retrieve required environment variables\n",
    "bucket = os.getenv(\"bucket\")\n",
    "gcp_project = os.getenv(\"gcp_project\")\n",
    "gcp_service_account = os.getenv(\"gcp_service_account\")\n",
    "kubeflow_pipelines_artifact_registyr = os.getenv('kubeflow_pipelines_artifact_registyr')\n",
    "\n",
    "# Create a RegistryClient instance and connect to the Kubeflow Pipelines Artifact Registry\n",
    "client = RegistryClient(host=f\"https://europe-west1-kfp.pkg.dev/{gcp_project}/{kubeflow_pipelines_artifact_registyr}\")\n"
   ]
  },
  {
   "cell_type": "code",
   "execution_count": 2,
   "metadata": {},
   "outputs": [
    {
     "data": {
      "text/plain": [
       "[{'name': 'projects/johan-kubeflow/locations/europe-west1/repositories/test-test/packages/ltv-train',\n",
       "  'createTime': '2023-03-22T21:35:14.063631Z',\n",
       "  'updateTime': '2023-03-22T21:40:29.948495Z'}]"
      ]
     },
     "execution_count": 2,
     "metadata": {},
     "output_type": "execute_result"
    }
   ],
   "source": [
    "client.list_packages()"
   ]
  },
  {
   "attachments": {},
   "cell_type": "markdown",
   "metadata": {},
   "source": [
    "# Creating a super simple pipeline\n",
    "\n",
    "However it is a littel diffrent from the one in previous blog post on how arguments are defined and that we compile to a yaml file instead. "
   ]
  },
  {
   "cell_type": "code",
   "execution_count": 3,
   "metadata": {},
   "outputs": [
    {
     "name": "stderr",
     "output_type": "stream",
     "text": [
      "/tmp/ipykernel_461/3552179836.py:4: DeprecationWarning: The module `kfp.v2` is deprecated and will be removed in a futureversion. Please import directly from the `kfp` namespace, instead of `kfp.v2`.\n",
      "  from kfp.v2.dsl import component\n"
     ]
    }
   ],
   "source": [
    "import kfp.dsl as dsl\n",
    "import os\n",
    "from dotenv import load_dotenv\n",
    "from kfp.v2.dsl import component\n",
    "from kfp.v2 import compiler\n",
    "from google.cloud import aiplatform as aip\n",
    "\n",
    "# Define the model training function\n",
    "def train_model(input: float) -> float:\n",
    "    return 2.0 + input\n",
    "\n",
    "# Define the data ingestion function\n",
    "def ingetst_data(input: float) -> float:\n",
    "    return 2.0\n",
    "\n",
    "# Create components for the ingestion and training functions\n",
    "ingest_data_component = component(ingetst_data)\n",
    "train_component = component(train_model)\n",
    "\n",
    "# Define the pipeline using the Kubeflow Pipelines SDK\n",
    "@dsl.pipeline(\n",
    "    name=\"ltv-train\",\n",
    ")\n",
    "def add_pipeline():\n",
    "    # Instantiate the ingest_data_component and store its output\n",
    "    ingest_data = ingest_data_component(input=3.0)\n",
    "    \n",
    "    # Instantiate the train_component, passing the output from the ingest_data_component\n",
    "    train_model = train_component(input=ingest_data.output)\n",
    "    \n",
    "    # Disable caching for the train_model component to ensure it runs every time\n",
    "    train_model.set_caching_options(False)\n",
    "\n",
    "# Compile the pipeline to generate a YAML file for execution\n",
    "compiler.Compiler().compile(pipeline_func=add_pipeline, package_path=\"local_run.yaml\")\n"
   ]
  },
  {
   "cell_type": "code",
   "execution_count": 5,
   "metadata": {},
   "outputs": [],
   "source": [
    "# Upload the pipeline to the Kubeflow Pipelines registry\n",
    "templateName, versionName = client.upload_pipeline(\n",
    "    # Provide the compiled pipeline YAML file\n",
    "    file_name=\"local_run.yaml\",\n",
    "    \n",
    "    # Assign tags to the pipeline for easier identification and versioning\n",
    "    tags=[\"v1\", \"latest\"],\n",
    "    \n",
    "    # Add a description to the pipeline using extra_headers\n",
    "    extra_headers={\"description\": \"This is an example pipeline template.\"}\n",
    ")\n"
   ]
  }
 ],
 "metadata": {
  "kernelspec": {
   "display_name": "Python 3",
   "language": "python",
   "name": "python3"
  },
  "language_info": {
   "codemirror_mode": {
    "name": "ipython",
    "version": 3
   },
   "file_extension": ".py",
   "mimetype": "text/x-python",
   "name": "python",
   "nbconvert_exporter": "python",
   "pygments_lexer": "ipython3",
   "version": "3.10.10"
  },
  "orig_nbformat": 4
 },
 "nbformat": 4,
 "nbformat_minor": 2
}
