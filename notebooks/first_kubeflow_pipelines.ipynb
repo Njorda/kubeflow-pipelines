{
 "cells": [
  {
   "attachments": {},
   "cell_type": "markdown",
   "metadata": {},
   "source": [
    "# Running a kubeflow pipeline on google vertex"
   ]
  },
  {
   "cell_type": "code",
   "execution_count": null,
   "metadata": {},
   "outputs": [],
   "source": [
    "%load_ext autoreload\n",
    "%autoreload 2\n",
    "import kfp.dsl as dsl\n",
    "import os\n",
    "from dotenv import load_dotenv\n",
    "from kfp.v2.dsl import Output, component\n",
    "from kfp.v2 import compiler\n",
    "from google.cloud import aiplatform as aip\n",
    "\n",
    "#loading enviroment variables\n",
    "load_dotenv()\n",
    "bucket = os.getenv(\"bucket\")\n",
    "gcp_project = os.getenv(\"gcp_project\")\n",
    "gcp_service_account = os.getenv(\"gcp_service_account\")"
   ]
  },
  {
   "attachments": {},
   "cell_type": "markdown",
   "metadata": {},
   "source": [
    "### Check that we have access and can loop all pipelines"
   ]
  },
  {
   "cell_type": "code",
   "execution_count": null,
   "metadata": {},
   "outputs": [],
   "source": [
    "aip.init(\n",
    "    project=gcp_project,\n",
    "    location=\"europe-west1\",\n",
    ")\n",
    "all_piplines = aip.PipelineJob.list()\n",
    "all_piplines"
   ]
  },
  {
   "attachments": {},
   "cell_type": "markdown",
   "metadata": {},
   "source": [
    "# Create a kubeflow pipeline"
   ]
  },
  {
   "cell_type": "code",
   "execution_count": null,
   "metadata": {},
   "outputs": [],
   "source": [
    "def train_model(input: float) -> float:\n",
    "    return 2.0 + input\n",
    "\n",
    "\n",
    "def ingetst_data() -> float:\n",
    "    return 2.0\n",
    "\n",
    "# Create components for the ingestion and training functions\n",
    "ingest_data_component = component(ingetst_data)\n",
    "train_component = component(train_model)\n",
    "\n",
    "\n",
    "# Define the pipeline using the Kubeflow Pipelines SDK\n",
    "@dsl.pipeline(\n",
    "    name=\"train-test\",\n",
    ")\n",
    "def add_pipeline():\n",
    "    # Instantiate the ingest_data_component and store its output\n",
    "    ingest_data = ingest_data_component()\n",
    "    \n",
    "    # Instantiate the train_component, passing the output from the ingest_data_component\n",
    "    train_model = train_component(input=ingest_data.output)\n",
    "    \n",
    "    # Disable caching for the train_model component to ensure it runs every time\n",
    "    train_model.set_caching_options(False)\n",
    "\n",
    "# Compile the pipeline to generate a JSON file for execution\n",
    "compiler.Compiler().compile(pipeline_func=add_pipeline, package_path=\"local_run.yaml\")"
   ]
  },
  {
   "attachments": {},
   "cell_type": "markdown",
   "metadata": {},
   "source": [
    "This code defines a simple pipeline using the Kubeflow Pipelines SDK. The pipeline consists of two components: a data ingestion component (ingetst_data) and a model training component (train_model). The ingetst_data component returns a constant value of 2.0, while the train_model component adds 2.0 to the input value. Finally, the pipeline is compiled and saved as a JSON file (local_run.json) for local execution or deployment."
   ]
  },
  {
   "cell_type": "code",
   "execution_count": null,
   "metadata": {},
   "outputs": [],
   "source": [
    "job = aip.PipelineJob(\n",
    "    #job_id='test' # TODO se in the future\n",
    "    display_name=\"First kubeflow pipeline\",\n",
    "    template_path=\"local_run.yaml\",\n",
    "    pipeline_root=bucket,\n",
    "    location=\"europe-west1\",\n",
    "    project=gcp_project,\n",
    ")\n",
    "\n",
    "job.submit(\n",
    "    service_account=gcp_service_account\n",
    ")"
   ]
  }
 ],
 "metadata": {
  "kernelspec": {
   "display_name": "Python 3",
   "language": "python",
   "name": "python3"
  },
  "language_info": {
   "codemirror_mode": {
    "name": "ipython",
    "version": 3
   },
   "file_extension": ".py",
   "mimetype": "text/x-python",
   "name": "python",
   "nbconvert_exporter": "python",
   "pygments_lexer": "ipython3",
   "version": "3.10.10"
  },
  "orig_nbformat": 4
 },
 "nbformat": 4,
 "nbformat_minor": 2
}
