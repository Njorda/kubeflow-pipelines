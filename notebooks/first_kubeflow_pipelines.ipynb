{
 "cells": [
  {
   "attachments": {},
   "cell_type": "markdown",
   "metadata": {},
   "source": [
    "# Running a kubeflow pipeline on google vertex"
   ]
  },
  {
   "cell_type": "code",
   "execution_count": 1,
   "metadata": {},
   "outputs": [
    {
     "name": "stderr",
     "output_type": "stream",
     "text": [
      "/tmp/ipykernel_6139/145662139.py:6: DeprecationWarning: The module `kfp.v2` is deprecated and will be removed in a futureversion. Please import directly from the `kfp` namespace, instead of `kfp.v2`.\n",
      "  from kfp.v2.dsl import Output, component, InputPath, HTML, Input, Dataset\n"
     ]
    }
   ],
   "source": [
    "%load_ext autoreload\n",
    "%autoreload 2\n",
    "import kfp.dsl as dsl\n",
    "import os\n",
    "from dotenv import load_dotenv\n",
    "from kfp.v2.dsl import Output, component, InputPath, HTML, Input, Dataset\n",
    "from kfp.v2 import compiler\n",
    "from google.cloud import aiplatform as aip\n",
    "\n",
    "#loading enviroment variables\n",
    "load_dotenv()\n",
    "bucket = os.getenv(\"bucket\")\n",
    "gcp_project = os.getenv(\"gcp_project\")\n",
    "gcp_service_account = os.getenv(\"gcp_service_account\")\n"
   ]
  },
  {
   "attachments": {},
   "cell_type": "markdown",
   "metadata": {},
   "source": [
    "### Check that we have access and can loop all pipelines"
   ]
  },
  {
   "cell_type": "code",
   "execution_count": 2,
   "metadata": {},
   "outputs": [
    {
     "name": "stderr",
     "output_type": "stream",
     "text": [
      "/usr/local/lib/python3.10/site-packages/google/auth/_default.py:78: UserWarning: Your application has authenticated using end user credentials from Google Cloud SDK without a quota project. You might receive a \"quota exceeded\" or \"API not enabled\" error. See the following page for troubleshooting: https://cloud.google.com/docs/authentication/adc-troubleshooting/user-creds. \n",
      "  warnings.warn(_CLOUD_SDK_CREDENTIALS_WARNING)\n"
     ]
    },
    {
     "data": {
      "text/plain": [
       "[<google.cloud.aiplatform.pipeline_jobs.PipelineJob object at 0xffff7bdb86d0> \n",
       " resource name: projects/559395553199/locations/europe-west1/pipelineJobs/ltv-train-20230322073644,\n",
       " <google.cloud.aiplatform.pipeline_jobs.PipelineJob object at 0xffff7bdb8eb0> \n",
       " resource name: projects/559395553199/locations/europe-west1/pipelineJobs/ltv-train-20230322072939,\n",
       " <google.cloud.aiplatform.pipeline_jobs.PipelineJob object at 0xffff7bdb8a90> \n",
       " resource name: projects/559395553199/locations/europe-west1/pipelineJobs/ltv-train-20230322072919,\n",
       " <google.cloud.aiplatform.pipeline_jobs.PipelineJob object at 0xffff7bdb9cc0> \n",
       " resource name: projects/559395553199/locations/europe-west1/pipelineJobs/ltv-train-20230322072628,\n",
       " <google.cloud.aiplatform.pipeline_jobs.PipelineJob object at 0xffff7bdba1d0> \n",
       " resource name: projects/559395553199/locations/europe-west1/pipelineJobs/ltv-train-20230322072223]"
      ]
     },
     "execution_count": 2,
     "metadata": {},
     "output_type": "execute_result"
    }
   ],
   "source": [
    "aip.init(\n",
    "    project=gcp_project,\n",
    "    location=\"europe-west1\",\n",
    ")\n",
    "all_piplines = aip.PipelineJob.list()\n",
    "all_piplines"
   ]
  },
  {
   "attachments": {},
   "cell_type": "markdown",
   "metadata": {},
   "source": [
    "# Create a kubeflow pipeline"
   ]
  },
  {
   "cell_type": "code",
   "execution_count": 6,
   "metadata": {},
   "outputs": [],
   "source": [
    "def train_model(input: float) -> float:\n",
    "    return 2.0 + input\n",
    "\n",
    "\n",
    "def ingetst_data() -> float:\n",
    "    return 2.0\n",
    "\n",
    "# Create components for the ingestion and training functions\n",
    "ingest_data_component = component(ingetst_data)\n",
    "train_component = component(train_model)\n",
    "\n",
    "\n",
    "# Define the pipeline using the Kubeflow Pipelines SDK\n",
    "@dsl.pipeline(\n",
    "    name=\"ltv-train\",\n",
    ")\n",
    "def add_pipeline():\n",
    "    # Instantiate the ingest_data_component and store its output\n",
    "    ingest_data = ingest_data_component()\n",
    "    \n",
    "    # Instantiate the train_component, passing the output from the ingest_data_component\n",
    "    train_model = train_component(input=ingest_data.output)\n",
    "    \n",
    "    # Disable caching for the train_model component to ensure it runs every time\n",
    "    train_model.set_caching_options(False)\n",
    "\n",
    "# Compile the pipeline to generate a JSON file for execution\n",
    "compiler.Compiler().compile(pipeline_func=add_pipeline, package_path=\"local_run.yaml\")"
   ]
  },
  {
   "attachments": {},
   "cell_type": "markdown",
   "metadata": {},
   "source": [
    "This code defines a simple pipeline using the Kubeflow Pipelines SDK. The pipeline consists of two components: a data ingestion component (ingetst_data) and a model training component (train_model). The ingetst_data component returns a constant value of 2.0, while the train_model component adds 2.0 to the input value. Finally, the pipeline is compiled and saved as a JSON file (local_run.json) for local execution or deployment."
   ]
  },
  {
   "cell_type": "code",
   "execution_count": 7,
   "metadata": {},
   "outputs": [
    {
     "name": "stdout",
     "output_type": "stream",
     "text": [
      "Creating PipelineJob\n",
      "PipelineJob created. Resource name: projects/559395553199/locations/europe-west1/pipelineJobs/ltv-train-20230322212013\n",
      "To use this PipelineJob in another session:\n",
      "pipeline_job = aiplatform.PipelineJob.get('projects/559395553199/locations/europe-west1/pipelineJobs/ltv-train-20230322212013')\n",
      "View Pipeline Job:\n",
      "https://console.cloud.google.com/vertex-ai/locations/europe-west1/pipelines/runs/ltv-train-20230322212013?project=559395553199\n"
     ]
    }
   ],
   "source": [
    "job = aip.PipelineJob(\n",
    "    #job_id='test' # TODO se in the future\n",
    "    display_name=\"First kubeflow pipeline\",\n",
    "    template_path=\"local_run.json\",\n",
    "    pipeline_root=bucket,\n",
    "    location=\"europe-west1\",\n",
    "    project=gcp_project,\n",
    ")\n",
    "\n",
    "job.submit(\n",
    "    service_account=gcp_service_account\n",
    ")"
   ]
  },
  {
   "cell_type": "code",
   "execution_count": null,
   "metadata": {},
   "outputs": [],
   "source": []
  }
 ],
 "metadata": {
  "kernelspec": {
   "display_name": "Python 3",
   "language": "python",
   "name": "python3"
  },
  "language_info": {
   "codemirror_mode": {
    "name": "ipython",
    "version": 3
   },
   "file_extension": ".py",
   "mimetype": "text/x-python",
   "name": "python",
   "nbconvert_exporter": "python",
   "pygments_lexer": "ipython3",
   "version": "3.10.10"
  },
  "orig_nbformat": 4
 },
 "nbformat": 4,
 "nbformat_minor": 2
}
