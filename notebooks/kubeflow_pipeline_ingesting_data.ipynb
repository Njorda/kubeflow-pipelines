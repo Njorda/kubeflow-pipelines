{
 "cells": [
  {
   "cell_type": "code",
   "execution_count": 7,
   "metadata": {},
   "outputs": [
    {
     "name": "stdout",
     "output_type": "stream",
     "text": [
      "The autoreload extension is already loaded. To reload it, use:\n",
      "  %reload_ext autoreload\n"
     ]
    }
   ],
   "source": [
    "%load_ext autoreload\n",
    "%autoreload 2\n",
    "import kfp.dsl as dsl\n",
    "import os\n",
    "from dotenv import load_dotenv\n",
    "from typing import NamedTuple\n",
    "from kfp import compiler\n",
    "from kfp.dsl import component, OutputPath, Output, Dataset, Input, Model, Metrics\n",
    "\n",
    "from google.cloud import aiplatform as aip\n",
    "\n",
    "#loading enviroment variables\n",
    "load_dotenv()\n",
    "bucket = os.getenv(\"bucket\")\n",
    "gcp_project = os.getenv(\"gcp_project\")\n",
    "gcp_service_account = os.getenv(\"gcp_service_account\")"
   ]
  },
  {
   "cell_type": "code",
   "execution_count": 8,
   "metadata": {},
   "outputs": [],
   "source": [
    "def train_model(df_train_path:Input[Dataset], df_test_path:Input[Dataset], model_path: Output[Model], metrics: Output[Metrics]) -> float:\n",
    "    import numpy as np\n",
    "    import pandas as pd\n",
    "    from sklearn.model_selection import cross_val_score\n",
    "    from sklearn.metrics import mean_squared_error\n",
    "    import xgboost as xgb\n",
    "\n",
    "    train_data = pd.read_csv(df_train_path.path)\n",
    "    test_data = pd.read_csv(df_test_path.path)\n",
    "\n",
    "    X_train, y_train = train_data.drop(\"MEDV\", axis=1), train_data[\"MEDV\"]\n",
    "    X_test, y_test = test_data.drop(\"MEDV\", axis=1), test_data[\"MEDV\"]\n",
    "\n",
    "    # Create an XGBoost regressor\n",
    "    xgb_regressor = xgb.XGBRegressor(objective=\"reg:squarederror\", random_state=42)\n",
    "\n",
    "    # Perform cross-validation on the train dataset\n",
    "    cv_scores = cross_val_score(xgb_regressor, X_train, y_train, cv=5, scoring='neg_mean_squared_error')\n",
    "    print(\"Cross-validation MSE scores:\", -cv_scores)\n",
    "    print(\"Average cross-validation MSE:\", -np.mean(cv_scores))\n",
    "\n",
    "    # Train the XGBoost regressor on the entire train dataset\n",
    "    xgb_regressor.fit(X_train, y_train)\n",
    "\n",
    "    xgb_regressor.save_model(model_path.path)\n",
    "\n",
    "    # Predict and calculate the MSE on the test dataset\n",
    "    y_pred = xgb_regressor.predict(X_test)\n",
    "    mse = mean_squared_error(y_test, y_pred)\n",
    "    print(\"Test dataset MSE:\", mse)\n",
    "    metrics.log_metric('mse on test dataset', mse)\n",
    "    return mse\n",
    "\n",
    "def ingetst_data(df_train_path: Output[Dataset], df_test_path: Output[Dataset]):\n",
    "    import pandas as pd\n",
    "    from sklearn.datasets import load_boston\n",
    "    from sklearn.model_selection import train_test_split\n",
    "\n",
    "    boston_data = load_boston()\n",
    "    X, y = boston_data.data, boston_data.target\n",
    "\n",
    "    # Split the dataset into train and test sets\n",
    "    X_train, X_test, y_train, y_test = train_test_split(X, y, test_size=0.2, random_state=42)\n",
    "\n",
    "    # Save the train and test sets as CSV files\n",
    "    train_data = pd.DataFrame(X_train, columns=boston_data.feature_names)\n",
    "    train_data['MEDV'] = y_train\n",
    "    train_data.to_csv(df_train_path.path, index=False)\n",
    "\n",
    "    test_data = pd.DataFrame(X_test, columns=boston_data.feature_names)\n",
    "    test_data['MEDV'] = y_test\n",
    "    test_data.to_csv(df_test_path.path, index=False)\n",
    "\n",
    "# Create components for the ingestion and training functions\n",
    "ingest_data_component = component(ingetst_data,base_image='europe-docker.pkg.dev/vertex-ai/training/tf-cpu.2-4:latest') # https://cloud.google.com/vertex-ai/docs/training/pre-built-containers\n",
    "train_component = component(train_model,base_image='europe-docker.pkg.dev/vertex-ai/training/tf-cpu.2-4:latest') # https://cloud.google.com/vertex-ai/docs/training/pre-built-containers\n",
    "\n",
    "\n",
    "# Define the pipeline using the Kubeflow Pipelines SDK\n",
    "@dsl.pipeline(\n",
    "    name=\"ltv-train\",\n",
    ")\n",
    "def add_pipeline():\n",
    "    # Instantiate the ingest_data_component and store its output\n",
    "    ingest_data = ingest_data_component()\n",
    "    \n",
    "    # Instantiate the train_component, passing the output from the ingest_data_component\n",
    "    train_model = train_component(df_train_path=ingest_data.outputs['df_train_path'],df_test_path=ingest_data.outputs['df_test_path'])\n",
    "    \n",
    "    # Disable caching for the train_model component to ensure it runs every time\n",
    "    train_model.set_caching_options(False)\n",
    "\n",
    "# Compile the pipeline to generate a JSON file for execution\n",
    "compiler.Compiler().compile(pipeline_func=add_pipeline, package_path=\"local_run.yaml\")"
   ]
  },
  {
   "cell_type": "code",
   "execution_count": 9,
   "metadata": {},
   "outputs": [
    {
     "name": "stderr",
     "output_type": "stream",
     "text": [
      "/usr/local/lib/python3.10/site-packages/google/auth/_default.py:78: UserWarning: Your application has authenticated using end user credentials from Google Cloud SDK without a quota project. You might receive a \"quota exceeded\" or \"API not enabled\" error. See the following page for troubleshooting: https://cloud.google.com/docs/authentication/adc-troubleshooting/user-creds. \n",
      "  warnings.warn(_CLOUD_SDK_CREDENTIALS_WARNING)\n"
     ]
    },
    {
     "name": "stdout",
     "output_type": "stream",
     "text": [
      "Creating PipelineJob\n",
      "PipelineJob created. Resource name: projects/559395553199/locations/europe-west1/pipelineJobs/ltv-train-20230323142803\n",
      "To use this PipelineJob in another session:\n",
      "pipeline_job = aiplatform.PipelineJob.get('projects/559395553199/locations/europe-west1/pipelineJobs/ltv-train-20230323142803')\n",
      "View Pipeline Job:\n",
      "https://console.cloud.google.com/vertex-ai/locations/europe-west1/pipelines/runs/ltv-train-20230323142803?project=559395553199\n"
     ]
    }
   ],
   "source": [
    "job = aip.PipelineJob(\n",
    "    #job_id='test' # TODO se in the future\n",
    "    display_name=\"First kubeflow pipeline\",\n",
    "    template_path=\"local_run.yaml\",\n",
    "    pipeline_root=bucket,\n",
    "    location=\"europe-west1\",\n",
    "    project=gcp_project,\n",
    ")\n",
    "\n",
    "job.submit(\n",
    "    service_account=gcp_service_account\n",
    ")"
   ]
  }
 ],
 "metadata": {
  "kernelspec": {
   "display_name": "Python 3",
   "language": "python",
   "name": "python3"
  },
  "language_info": {
   "codemirror_mode": {
    "name": "ipython",
    "version": 3
   },
   "file_extension": ".py",
   "mimetype": "text/x-python",
   "name": "python",
   "nbconvert_exporter": "python",
   "pygments_lexer": "ipython3",
   "version": "3.10.10"
  },
  "orig_nbformat": 4
 },
 "nbformat": 4,
 "nbformat_minor": 2
}
