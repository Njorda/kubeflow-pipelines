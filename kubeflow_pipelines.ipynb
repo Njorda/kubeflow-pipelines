{
 "cells": [
  {
   "cell_type": "code",
   "execution_count": null,
   "metadata": {},
   "outputs": [],
   "source": [
    "%load_ext autoreload\n",
    "%autoreload 2\n",
    "import kfp.dsl as dsl\n",
    "import os\n",
    "from dotenv import load_dotenv\n",
    "from kfp.v2.dsl import Output, component, InputPath, HTML, Input, Dataset\n",
    "from kfp.v2 import compiler\n",
    "from google.cloud import aiplatform as aip\n",
    "load_dotenv()\n",
    "\n",
    "bucket = os.getenv('bucket')\n",
    "gcp_project = os.getenv('gcp_project')\n",
    "gcp_service_account = os.getenv('gcp_service_account')"
   ]
  },
  {
   "attachments": {},
   "cell_type": "markdown",
   "metadata": {},
   "source": [
    "### Check that we have access "
   ]
  },
  {
   "cell_type": "code",
   "execution_count": null,
   "metadata": {},
   "outputs": [],
   "source": [
    "aip.init(\n",
    "    project=gcp_project,\n",
    "    location=\"europe-west1\",\n",
    ")\n",
    "all_piplines = aip.PipelineJob.list()\n",
    "all_piplines"
   ]
  },
  {
   "cell_type": "code",
   "execution_count": null,
   "metadata": {},
   "outputs": [],
   "source": [
    "def train_model(input:int)->float: \n",
    "    return 2+input\n",
    "\n",
    "def ingetst_data()->float: \n",
    "    return 2\n",
    "\n",
    "ingest_data_component = component(\n",
    "    ingetst_data\n",
    ")\n",
    "\n",
    "train_component = component(\n",
    "    train_model\n",
    ")\n",
    "\n",
    "@dsl.pipeline(\n",
    "    name=\"ltv-train\",\n",
    ")\n",
    "def add_pipeline(\n",
    "):\n",
    "\n",
    "  first_add_task = ingest_data_component()\n",
    "\n",
    "  second_add_task = train_component(2)\n",
    "\n",
    "compiler.Compiler().compile(pipeline_func=add_pipeline, package_path=\"local_run.json\")"
   ]
  },
  {
   "cell_type": "code",
   "execution_count": null,
   "metadata": {},
   "outputs": [],
   "source": [
    "job = aip.PipelineJob(\n",
    "    display_name=\"test\",\n",
    "    template_path=\"local_run.json\",\n",
    "    pipeline_root=bucket,\n",
    "    location=\"europe-west1\",\n",
    "    project=gcp_project,\n",
    ")\n",
    "\n",
    "job.submit(service_account=gcp_service_account)"
   ]
  },
  {
   "cell_type": "code",
   "execution_count": null,
   "metadata": {},
   "outputs": [],
   "source": []
  }
 ],
 "metadata": {
  "kernelspec": {
   "display_name": "Python 3",
   "language": "python",
   "name": "python3"
  },
  "language_info": {
   "codemirror_mode": {
    "name": "ipython",
    "version": 3
   },
   "file_extension": ".py",
   "mimetype": "text/x-python",
   "name": "python",
   "nbconvert_exporter": "python",
   "pygments_lexer": "ipython3",
   "version": "3.10.10"
  },
  "orig_nbformat": 4
 },
 "nbformat": 4,
 "nbformat_minor": 2
}
